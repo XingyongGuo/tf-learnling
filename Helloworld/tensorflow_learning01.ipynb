{
 "cells": [
  {
   "cell_type": "code",
   "execution_count": null,
   "metadata": {},
   "outputs": [],
   "source": [
    "import tensorflow as tf\n",
    "\n",
    "print(tf.__version__)"
   ]
  },
  {
   "cell_type": "markdown",
   "metadata": {},
   "source": [
    "### 1、tensorflow单个神经元做线性拟合"
   ]
  },
  {
   "cell_type": "code",
   "execution_count": null,
   "metadata": {},
   "outputs": [],
   "source": [
    "import tensorflow as tf\n",
    "from tensorflow import keras\n",
    "import numpy as np\n",
    "\n",
    "model = keras.Sequential([keras.layers.Dense(units=1,input_shape=[1])])\n",
    "model.compile(optimizer = \"sgd\", loss = \"mean_squared_error\")\n",
    "\n",
    "# y=2*x-1\n",
    "xs = np.array([-1.0,0.0,1.0,2.0,3.0,4.0],dtype=float)\n",
    "ys = np.array([-3.0,-1.0,1.0,3.0,5.0,7.0],dtype=float)\n",
    "\n",
    "model.fit(xs,ys,epochs=500)\n",
    "\n",
    "model.predict([10.0])"
   ]
  },
  {
   "cell_type": "markdown",
   "metadata": {},
   "source": [
    "### 2、Hello world - Fashion MNIST "
   ]
  },
  {
   "cell_type": "code",
   "execution_count": 67,
   "metadata": {},
   "outputs": [
    {
     "name": "stdout",
     "output_type": "stream",
     "text": [
      "(60000, 28, 28) (10000, 28, 28)\n"
     ]
    },
    {
     "data": {
      "text/plain": [
       "<matplotlib.image.AxesImage at 0x15a2fa9eca0>"
      ]
     },
     "execution_count": 67,
     "metadata": {},
     "output_type": "execute_result"
    },
    {
     "data": {
      "image/png": "[encoded data removed]",
      "text/plain": [
       "<Figure size 432x288 with 1 Axes>"
      ]
     },
     "metadata": {
      "needs_background": "light"
     },
     "output_type": "display_data"
    }
   ],
   "source": [
    "import tensorflow as tf\n",
    "from tensorflow import keras\n",
    "import matplotlib.pyplot as plt\n",
    "\n",
    "fashion_mnist = tf.keras.datasets.fashion_mnist\n",
    "(train_images, train_labels),(test_images, test_labels) =fashion_mnist.load_data()\n",
    "\n",
    "print(train_images.shape,test_images.shape)\n",
    "plt.imshow(test_images[1])"
   ]
  },
  {
   "cell_type": "code",
   "execution_count": 56,
   "metadata": {},
   "outputs": [
    {
     "name": "stdout",
     "output_type": "stream",
     "text": [
      "\n",
      "train images shap: (60000, 28, 28) test images shap: (10000, 28, 28) \n",
      "\n",
      "Model: \"sequential_19\"\n",
      "_________________________________________________________________\n",
      "Layer (type)                 Output Shape              Param #   \n",
      "=================================================================\n",
      "flatten_19 (Flatten)         (None, 784)               0         \n",
      "_________________________________________________________________\n",
      "dense_38 (Dense)             (None, 128)               100480    \n",
      "_________________________________________________________________\n",
      "dense_39 (Dense)             (None, 10)                1290      \n",
      "=================================================================\n",
      "Total params: 101,770\n",
      "Trainable params: 101,770\n",
      "Non-trainable params: 0\n",
      "_________________________________________________________________\n",
      "Epoch 1/10\n",
      "1875/1875 [==============================] - 3s 1ms/step - loss: 0.4944 - accuracy: 0.8253\n",
      "Epoch 2/10\n",
      "1875/1875 [==============================] - 3s 1ms/step - loss: 0.3755 - accuracy: 0.8648\n",
      "Epoch 3/10\n",
      "1875/1875 [==============================] - 3s 1ms/step - loss: 0.3351 - accuracy: 0.8780\n",
      "Epoch 4/10\n",
      "1875/1875 [==============================] - 3s 1ms/step - loss: 0.3111 - accuracy: 0.8858\n",
      "Epoch 5/10\n",
      "1846/1875 [============================>.] - ETA: 0s - loss: 0.2930 - accuracy: 0.8918\n",
      "Loss is low so cancelling training!\n",
      "1875/1875 [==============================] - 3s 2ms/step - loss: 0.2930 - accuracy: 0.8917\n",
      "\n",
      "model evaluate:\n",
      "313/313 [==============================] - 0s 1ms/step - loss: 0.3552 - accuracy: 0.8727\n"
     ]
    },
    {
     "data": {
      "text/plain": [
       "[0.3552113175392151, 0.8726999759674072]"
      ]
     },
     "execution_count": 56,
     "metadata": {},
     "output_type": "execute_result"
    }
   ],
   "source": [
    "import tensorflow as tf\n",
    "from tensorflow import keras\n",
    "import numpy as np\n",
    "import matplotlib.pyplot as plt\n",
    "\n",
    "#训练回调函数\n",
    "class myCallback(tf.keras.callbacks.Callback):\n",
    "    def on_epoch_end(self, epoch,logs={}):\n",
    "        if(logs.get('loss') < 0.3):\n",
    "            print(\"\\nLoss is low so cancelling training!\")\n",
    "            self.model.stop_training = True\n",
    "\n",
    "callbacks = myCallback()\n",
    "\n",
    "fashion_mnist = tf.keras.datasets.fashion_mnist\n",
    "(train_images, train_labels),(test_images, test_labels) =fashion_mnist.load_data()\n",
    "\n",
    "train_images_scaled = train_images/255.0\n",
    "test_images_scaled = test_images/255.0\n",
    "\n",
    "print(\"\\ntrain images shap:\", train_images_scaled.shape, \"test images shap:\",test_images_scaled.shape,\"\\n\")\n",
    "\n",
    "model =keras.Sequential()\n",
    "model.add(keras.layers.Flatten(input_shape=(28,28)))\n",
    "model.add(keras.layers.Dense(128, activation=tf.nn.relu))\n",
    "model.add(keras.layers.Dense(10, activation=tf.nn.softmax))\n",
    "\n",
    "model.summary()\n",
    "\n",
    "model.compile(optimizer=tf.optimizers.Adam(),loss=tf.losses.sparse_categorical_crossentropy,metrics=\"accuracy\")\n",
    "model.fit(train_images_scaled, train_labels,epochs=10,callbacks=[callbacks])\n",
    "\n",
    "print(\"\\nmodel evaluate:\")\n",
    "model.evaluate(test_images_scaled,test_labels)"
   ]
  },
  {
   "cell_type": "code",
   "execution_count": 57,
   "metadata": {},
   "outputs": [
    {
     "name": "stdout",
     "output_type": "stream",
     "text": [
      "(10000, 28, 28)\n"
     ]
    }
   ],
   "source": [
    "model.evaluate(test_images_scaled,test_labels)"
   ]
  },
  {
   "cell_type": "code",
   "execution_count": 1,
   "metadata": {},
   "outputs": [
    {
     "ename": "NameError",
     "evalue": "name 'test' is not defined",
     "output_type": "error",
     "traceback": [
      "\u001b[1;31m---------------------------------------------------------------------------\u001b[0m",
      "\u001b[1;31mNameError\u001b[0m                                 Traceback (most recent call last)",
      "\u001b[1;32md:\\TensorFlow\\01test\\tensorflow_learning01.ipynb Cell 8'\u001b[0m in \u001b[0;36m<cell line: 1>\u001b[1;34m()\u001b[0m\n\u001b[1;32m----> <a href='vscode-notebook-cell:/d%3A/TensorFlow/01test/tensorflow_learning01.ipynb#ch0000007?line=0'>1</a>\u001b[0m test(\u001b[39m2\u001b[39m)\n",
      "\u001b[1;31mNameError\u001b[0m: name 'test' is not defined"
     ]
    }
   ],
   "source": [
    "test(2)"
   ]
  },
  {
   "cell_type": "markdown",
   "metadata": {},
   "source": [
    "### 3、 MNIST 手写数字识别"
   ]
  },
  {
   "cell_type": "code",
   "execution_count": 61,
   "metadata": {},
   "outputs": [],
   "source": [
    "import tensorflow as tf\n",
    "\n",
    "mnist = tf.keras.datasets.mnist\n",
    "\n",
    "(x_train, y_train), (x_test, y_test) = mnist.load_data()\n",
    "x_train, x_test = x_train / 255.0, x_test / 255.0\n"
   ]
  },
  {
   "cell_type": "code",
   "execution_count": 62,
   "metadata": {},
   "outputs": [],
   "source": [
    "model = tf.keras.models.Sequential([\n",
    "  tf.keras.layers.Flatten(input_shape=(28, 28)),\n",
    "  tf.keras.layers.Dense(128, activation='relu'),\n",
    "  tf.keras.layers.Dropout(0.2),\n",
    "  tf.keras.layers.Dense(10, activation='softmax')\n",
    "])\n",
    "\n",
    "model.compile(optimizer='adam',\n",
    "              loss='sparse_categorical_crossentropy',\n",
    "              metrics=['accuracy'])"
   ]
  },
  {
   "cell_type": "code",
   "execution_count": 63,
   "metadata": {},
   "outputs": [
    {
     "name": "stdout",
     "output_type": "stream",
     "text": [
      "Epoch 1/5\n",
      "1875/1875 [==============================] - 3s 1ms/step - loss: 0.2968 - accuracy: 0.9129\n",
      "Epoch 2/5\n",
      "1875/1875 [==============================] - 3s 1ms/step - loss: 0.1413 - accuracy: 0.9584\n",
      "Epoch 3/5\n",
      "1875/1875 [==============================] - 3s 1ms/step - loss: 0.1053 - accuracy: 0.9680\n",
      "Epoch 4/5\n",
      "1875/1875 [==============================] - 3s 1ms/step - loss: 0.0860 - accuracy: 0.9732\n",
      "Epoch 5/5\n",
      "1875/1875 [==============================] - 2s 1ms/step - loss: 0.0720 - accuracy: 0.9779\n",
      "313/313 - 0s - loss: 0.0719 - accuracy: 0.9767\n"
     ]
    },
    {
     "data": {
      "text/plain": [
       "[0.07185233384370804, 0.9767000079154968]"
      ]
     },
     "execution_count": 63,
     "metadata": {},
     "output_type": "execute_result"
    }
   ],
   "source": [
    "model.fit(x_train, y_train, epochs=5)\n",
    "\n",
    "model.evaluate(x_test,  y_test, verbose=2)"
   ]
  },
  {
   "cell_type": "code",
   "execution_count": 64,
   "metadata": {},
   "outputs": [
    {
     "name": "stdout",
     "output_type": "stream",
     "text": [
      "(10000, 28, 28)\n"
     ]
    }
   ],
   "source": [
    "def mnist_test(ident):\n",
    "    predict_results = model.predict(tf.reshape(x_test[ident],shape=(1,28,28)))\n",
    "    print(predict_results)\n",
    "    print(\"Presivt:\",np.argmax(predict_results),\"     Practical:\",y_test[ident])\n",
    "    plt.figure()\n",
    "    plt.subplot(1,2,1)\n",
    "    plt.imshow(x_test[ident])\n",
    "    plt.subplot(1,2,2)\n",
    "    plt.imshow(predict_results)\n",
    "\n",
    "print(test_images.shape)"
   ]
  },
  {
   "cell_type": "code",
   "execution_count": 66,
   "metadata": {},
   "outputs": [
    {
     "name": "stdout",
     "output_type": "stream",
     "text": [
      "[[1.03632850e-07 2.95971656e-08 3.32082942e-04 9.94746983e-01\n",
      "  1.17761105e-11 4.35250672e-03 3.61039709e-09 1.52721782e-08\n",
      "  5.68068644e-04 2.14961730e-07]]\n",
      "Presivt: 3      Practical: 3\n"
     ]
    },
    {
     "data": {
      "image/png": "[encoded data removed]",
      "text/plain": [
       "<Figure size 432x288 with 2 Axes>"
      ]
     },
     "metadata": {
      "needs_background": "light"
     },
     "output_type": "display_data"
    }
   ],
   "source": [
    "mnist_test(200)"
   ]
  },
  {
   "cell_type": "markdown",
   "metadata": {},
   "source": [
    "### 4、Convolutional Neural Network —— CNN "
   ]
  },
  {
   "cell_type": "code",
   "execution_count": 12,
   "metadata": {},
   "outputs": [
    {
     "name": "stdout",
     "output_type": "stream",
     "text": [
      "\n",
      "train images shap: (60000, 28, 28) test images shap: (10000, 28, 28) \n",
      "\n",
      "Epoch 1/10\n",
      "1875/1875 [==============================] - 43s 23ms/step - loss: 0.1447 - accuracy: 0.9553\n",
      "Epoch 2/10\n",
      "1875/1875 [==============================] - 44s 24ms/step - loss: 0.0492 - accuracy: 0.9847\n",
      "Epoch 3/10\n",
      "1875/1875 [==============================] - 43s 23ms/step - loss: 0.0337 - accuracy: 0.9899\n",
      "Epoch 4/10\n",
      "1875/1875 [==============================] - 43s 23ms/step - loss: 0.0265 - accuracy: 0.9914\n",
      "Epoch 5/10\n",
      "1875/1875 [==============================] - 43s 23ms/step - loss: 0.0211 - accuracy: 0.9933\n",
      "Epoch 6/10\n",
      "1875/1875 [==============================] - 43s 23ms/step - loss: 0.0175 - accuracy: 0.9944\n",
      "Epoch 7/10\n",
      "1875/1875 [==============================] - 43s 23ms/step - loss: 0.0146 - accuracy: 0.9955\n",
      "Epoch 8/10\n",
      "1875/1875 [==============================] - 42s 23ms/step - loss: 0.0124 - accuracy: 0.9959\n",
      "Epoch 9/10\n",
      "1875/1875 [==============================] - 43s 23ms/step - loss: 0.0109 - accuracy: 0.9964\n",
      "Epoch 10/10\n",
      "1875/1875 [==============================] - 43s 23ms/step - loss: 0.0098 - accuracy: 0.9967\n",
      "\n",
      "model evaluate:\n",
      "313/313 [==============================] - 2s 7ms/step - loss: 0.0284 - accuracy: 0.9926\n"
     ]
    },
    {
     "data": {
      "text/plain": [
       "[0.02836950309574604, 0.9926000237464905]"
      ]
     },
     "execution_count": 12,
     "metadata": {},
     "output_type": "execute_result"
    }
   ],
   "source": [
    "import tensorflow as tf\n",
    "from tensorflow import keras\n",
    "import numpy as np\n",
    "import matplotlib.pyplot as plt\n",
    "\n",
    "data_type = \"mnist\"  #fashion_mnist\n",
    "#训练回调函数\n",
    "class myCallback(tf.keras.callbacks.Callback):\n",
    "    def on_epoch_end(self, epoch,logs={}):\n",
    "        if(logs.get('loss') < 0.001):\n",
    "            print(\"\\nLoss is low so cancelling training!\")\n",
    "            self.model.stop_training = True\n",
    "\n",
    "callbacks = myCallback()\n",
    "\n",
    "if data_type == \"mnist\":\n",
    "  mnist = tf.keras.datasets.mnist\n",
    "  (train_images, train_labels),(test_images, test_labels) = mnist.load_data()\n",
    "else:\n",
    "  fashion_mnist = tf.keras.datasets.fashion_mnist\n",
    "  (train_images, train_labels),(test_images, test_labels) =fashion_mnist.load_data()\n",
    "\n",
    "\n",
    "train_images_scaled = train_images/255.0\n",
    "test_images_scaled = test_images/255.0\n",
    "\n",
    "print(\"\\ntrain images shap:\", train_images_scaled.shape, \"test images shap:\",test_images_scaled.shape,\"\\n\")\n",
    "\n",
    "model = tf.keras.models.Sequential([\n",
    "  tf.keras.layers.Conv2D(64,(3,3),activation=\"relu\"),\n",
    "  tf.keras.layers.MaxPooling2D(2,2),\n",
    "  tf.keras.layers.Conv2D(64,(3,3),activation=\"relu\"),\n",
    "  tf.keras.layers.MaxPooling2D(2,2),\n",
    "  tf.keras.layers.Flatten(),\n",
    "  tf.keras.layers.Dense(128, activation='relu'),\n",
    "  tf.keras.layers.Dropout(0.2),\n",
    "  tf.keras.layers.Dense(10, activation='softmax')\n",
    "])\n",
    "\n",
    "model.compile(optimizer=tf.optimizers.Adam(),loss=tf.losses.sparse_categorical_crossentropy,metrics=\"accuracy\")\n",
    "history = model.fit(train_images_scaled.reshape(-1,28,28,1), train_labels,epochs=10,verbose=True,callbacks=[callbacks])\n",
    "\n",
    "print(\"\\nmodel evaluate:\")\n",
    "model.evaluate(test_images_scaled.reshape(-1,28,28,1),test_labels)\n"
   ]
  },
  {
   "cell_type": "code",
   "execution_count": 19,
   "metadata": {},
   "outputs": [
    {
     "data": {
      "text/plain": [
       "<Figure size 432x288 with 0 Axes>"
      ]
     },
     "execution_count": 19,
     "metadata": {},
     "output_type": "execute_result"
    },
    {
     "data": {
      "image/png": "[encoded data removed]",
      "text/plain": [
       "<Figure size 432x288 with 1 Axes>"
      ]
     },
     "metadata": {
      "needs_background": "light"
     },
     "output_type": "display_data"
    },
    {
     "data": {
      "image/png": "[encoded data removed]",
      "text/plain": [
       "<Figure size 432x288 with 1 Axes>"
      ]
     },
     "metadata": {
      "needs_background": "light"
     },
     "output_type": "display_data"
    },
    {
     "data": {
      "text/plain": [
       "<Figure size 432x288 with 0 Axes>"
      ]
     },
     "metadata": {},
     "output_type": "display_data"
    }
   ],
   "source": [
    "acc=history.history['accuracy']\n",
    "loss=history.history['loss']\n",
    "epochs=range(len(acc))\n",
    "\n",
    "plt.plot(epochs,acc,'r',\"Training Accuracy\")\n",
    "plt.title(\"Training and validation Accuracy\")\n",
    "plt.figure()\n",
    "\n",
    "plt.plot(epochs,loss,'r',\"Training loss\")\n",
    "plt.title(\"Training and validation Accuracy\")\n",
    "plt.figure()"
   ]
  },
  {
   "cell_type": "code",
   "execution_count": 21,
   "metadata": {},
   "outputs": [
    {
     "name": "stdout",
     "output_type": "stream",
     "text": [
      "(10000, 28, 28)\n"
     ]
    }
   ],
   "source": [
    "def cnn_test(ident):\n",
    "    predict_results = model.predict(tf.reshape(test_images_scaled[ident],shape=(-1,28,28,1)))\n",
    "    print(predict_results)\n",
    "    print(\"Presivt:\",np.argmax(predict_results),\"     Practical:\",test_labels[ident])\n",
    "    plt.figure()\n",
    "    plt.subplot(1,2,1)\n",
    "    plt.imshow(test_images_scaled[ident])\n",
    "    plt.subplot(1,2,2)\n",
    "    plt.imshow(predict_results)\n",
    "\n",
    "print(test_images.shape)"
   ]
  },
  {
   "cell_type": "code",
   "execution_count": 22,
   "metadata": {},
   "outputs": [
    {
     "name": "stdout",
     "output_type": "stream",
     "text": [
      "[[9.9999499e-01 4.5930295e-13 2.5803717e-12 4.5602228e-14 2.3690433e-12\n",
      "  5.4938449e-13 5.0157969e-06 6.3090505e-10 7.0826234e-11 8.2114520e-09]]\n",
      "Presivt: 0      Practical: 0\n"
     ]
    },
    {
     "data": {
      "image/png": "[encoded data removed]",
      "text/plain": [
       "<Figure size 432x288 with 2 Axes>"
      ]
     },
     "metadata": {
      "needs_background": "light"
     },
     "output_type": "display_data"
    }
   ],
   "source": [
    "cnn_test(3)"
   ]
  },
  {
   "cell_type": "code",
   "execution_count": 6,
   "metadata": {},
   "outputs": [],
   "source": [
    "layer_outputs = [layer.output for layer in model.layers]\n",
    "activation_model = tf.keras.models.Model(inputs = model.input, outputs =layer_outputs)"
   ]
  },
  {
   "cell_type": "code",
   "execution_count": 7,
   "metadata": {},
   "outputs": [],
   "source": [
    "def show_cnn(ident):\n",
    "    pred = activation_model.predict(test_images_scaled[ident].reshape(1,28,28,1))\n",
    "    plt.figure(figsize =(32,32))\n",
    "    for i in range(0,4):\n",
    "        plt.subplot(4,4,i+1)\n",
    "        plt.imshow(pred[0][0,:,:,i])\n",
    "    for i in range(0,4):\n",
    "        plt.subplot(4,4,i+5)\n",
    "        plt.imshow(pred[1][0,:,:,i])\n",
    "    for i in range(0,4):\n",
    "        plt.subplot(4,4,i+9)\n",
    "        plt.imshow(pred[2][0,:,:,i])\n",
    "    for i in range(0,4):\n",
    "        plt.subplot(4,4,i+13)\n",
    "        plt.imshow(pred[3][0,:,:,i])"
   ]
  },
  {
   "cell_type": "code",
   "execution_count": 8,
   "metadata": {},
   "outputs": [
    {
     "data": {
      "image/png": "[encoded data removed]",
      "text/plain": [
       "<Figure size 2304x2304 with 16 Axes>"
      ]
     },
     "metadata": {
      "needs_background": "light"
     },
     "output_type": "display_data"
    }
   ],
   "source": [
    "show_cnn(3)"
   ]
  }
 ],
 "metadata": {
  "interpreter": {
   "hash": "60dc6f04c65ecbb7be59bd1ff0aa24c86e987fdcc88c91910adcabc4ea2339df"
  },
  "kernelspec": {
   "display_name": "Python 3.8.13 ('tensorflow')",
   "language": "python",
   "name": "python3"
  },
  "language_info": {
   "codemirror_mode": {
    "name": "ipython",
    "version": 3
   },
   "file_extension": ".py",
   "mimetype": "text/x-python",
   "name": "python",
   "nbconvert_exporter": "python",
   "pygments_lexer": "ipython3",
   "version": "3.8.13"
  },
  "orig_nbformat": 4
 },
 "nbformat": 4,
 "nbformat_minor": 2
}
