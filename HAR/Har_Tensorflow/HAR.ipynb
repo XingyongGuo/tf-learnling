{
 "cells": [
  {
   "cell_type": "markdown",
   "metadata": {},
   "source": [
    "## 使用TensorFlow实现AHR"
   ]
  },
  {
   "cell_type": "markdown",
   "metadata": {},
   "source": [
    "### 1、获取数据"
   ]
  },
  {
   "cell_type": "markdown",
   "metadata": {},
   "source": [
    "源数据连接：\n",
    "https://archive.ics.uci.edu/ml/datasets/human+activity+recognition+using+smartphones\n",
    "\n",
    "这些实验是在 19-48 岁年龄段的 30 名志愿者中进行的。每个人在腰部佩戴智能手机（Samsung Galaxy S II）进行六项活动（WALKING、WALKING_UPSTAIRS、WALKING_DOWNSTAIRS、SITTING、STANDING、LAYING）。使用其嵌入式加速度计和陀螺仪，我们以 50Hz 的恒定速率捕获 3 轴线性加速度和 3 轴角速度。实验已被录像以手动标记数据。获得的数据集被随机分成两组，其中 70% 的志愿者被选择用于生成训练数据和 30% 的测试数据。\n",
    "\n",
    "传感器信号（加速度计和陀螺仪）通过应用噪声滤波器进行预处理，然后在 2.56 秒和 50% 重叠的固定宽度滑动窗口中进行采样（128 个读数/窗口）。具有重力和身体运动分量的传感器加速度信号使用巴特沃斯低通滤波器分离为身体加速度和重力。假设重力只有低频分量，因此使用了截止频率为 0.3 Hz 的滤波器。从每个窗口，通过从时域和频域计算变量来获得特征向量。"
   ]
  },
  {
   "cell_type": "code",
   "execution_count": 1,
   "metadata": {},
   "outputs": [],
   "source": [
    "import numpy as np\n",
    "import os\n",
    "import pandas as pd\n",
    "\n",
    "def get_data(filename, type):\n",
    "    \"\"\" Read data\n",
    "    Parm : filename : the input file name\n",
    "    type : train or test\n",
    "\n",
    "    Return the data in format data, label, channel of the data\n",
    "    \"\"\"\n",
    "    path_ = os.path.join(filename, type )\n",
    "    path_signals = os.path.join(path_, \"Inertial Signals\")\n",
    "\n",
    "    sub_file = \"y_\" + type + \".txt\"\n",
    "    label_path = os.path.join(path_, sub_file)\n",
    "\n",
    "    labels = pd.read_csv(label_path, header=None)\n",
    "\n",
    "    channel_files = os.listdir(path_signals)\n",
    "    channel_files.sort()\n",
    "    n_channels = len(channel_files)\n",
    "    posix = len(type) + 5\n",
    "\n",
    "    list_of_channels = []\n",
    "    data_array = np.zeros((len(labels), 128, n_channels))\n",
    "    count = 0\n",
    "    for filter_channel in channel_files:\n",
    "        channel_name = filter_channel[:-posix]\n",
    "        raw_data = pd.read_csv(os.path.join(path_signals, filter_channel), delim_whitespace=True, header=None)\n",
    "        data_array[:, :, count] = raw_data.to_numpy()\n",
    "        list_of_channels.append(channel_name)\n",
    "        count += 1\n",
    "    return data_array, labels[0].values, list_of_channels"
   ]
  },
  {
   "cell_type": "code",
   "execution_count": 26,
   "metadata": {},
   "outputs": [],
   "source": [
    "    train_data, train_label, ch_train = get_data(filename=\"./UCI HAR Dataset/\", type=\"train\")\n",
    "    test_data, test_label,ch_test = get_data(filename=\"./UCI HAR Dataset/\", type=\"test\")"
   ]
  },
  {
   "cell_type": "code",
   "execution_count": 27,
   "metadata": {},
   "outputs": [
    {
     "name": "stdout",
     "output_type": "stream",
     "text": [
      "['body_acc_x', 'body_acc_y', 'body_acc_z', 'body_gyro_x', 'body_gyro_y', 'body_gyro_z', 'total_acc_x', 'total_acc_y', 'total_acc_z'] \n",
      "Train data shap: (7352, 128, 9) train label shap: (7352,)\n"
     ]
    }
   ],
   "source": [
    "print(ch_train,\"\\nTrain data shap:\",train_data.shape,\"train label shap:\",train_label.shape)"
   ]
  },
  {
   "cell_type": "markdown",
   "metadata": {},
   "source": [
    "### 2、定义模型"
   ]
  },
  {
   "cell_type": "code",
   "execution_count": 28,
   "metadata": {},
   "outputs": [
    {
     "name": "stdout",
     "output_type": "stream",
     "text": [
      "Model: \"sequential_3\"\n",
      "_________________________________________________________________\n",
      "Layer (type)                 Output Shape              Param #   \n",
      "=================================================================\n",
      "conv2d_6 (Conv2D)            (None, 127, 8, 64)        320       \n",
      "_________________________________________________________________\n",
      "max_pooling2d_6 (MaxPooling2 (None, 63, 4, 64)         0         \n",
      "_________________________________________________________________\n",
      "dropout_9 (Dropout)          (None, 63, 4, 64)         0         \n",
      "_________________________________________________________________\n",
      "conv2d_7 (Conv2D)            (None, 62, 3, 64)         16448     \n",
      "_________________________________________________________________\n",
      "max_pooling2d_7 (MaxPooling2 (None, 31, 1, 64)         0         \n",
      "_________________________________________________________________\n",
      "dropout_10 (Dropout)         (None, 31, 1, 64)         0         \n",
      "_________________________________________________________________\n",
      "flatten_3 (Flatten)          (None, 1984)              0         \n",
      "_________________________________________________________________\n",
      "dense_6 (Dense)              (None, 64)                127040    \n",
      "_________________________________________________________________\n",
      "dropout_11 (Dropout)         (None, 64)                0         \n",
      "_________________________________________________________________\n",
      "dense_7 (Dense)              (None, 6)                 390       \n",
      "=================================================================\n",
      "Total params: 144,198\n",
      "Trainable params: 144,198\n",
      "Non-trainable params: 0\n",
      "_________________________________________________________________\n"
     ]
    }
   ],
   "source": [
    "import numpy as np\n",
    "import os\n",
    "import pandas as pd\n",
    "import tensorflow as tf\n",
    "import matplotlib.pyplot as plt\n",
    "\n",
    "model = tf.keras.models.Sequential([tf.keras.layers.Conv2D(filters=64,kernel_size=(2,2), activation='relu', input_shape=X_train[0].shape),\n",
    "                                    tf.keras.layers.MaxPooling2D(2,2),\n",
    "                                    tf.keras.layers.Dropout(0.5),\n",
    "                                    tf.keras.layers.Conv2D(filters=64,kernel_size=(2,2), activation='relu'),\n",
    "                                    tf.keras.layers.MaxPooling2D(2,2),\n",
    "                                    tf.keras.layers.Dropout(0.5),\n",
    "                                    tf.keras.layers.Flatten(),\n",
    "                                    tf.keras.layers.Dense(units=64,activation='relu', kernel_regularizer=tf.keras.regularizers.L2(0.001)),\n",
    "                                    tf.keras.layers.Dropout(0.5),\n",
    "                                    tf.keras.layers.Dense(units=6, activation='softmax')\n",
    "                                    ])\n",
    "\n",
    "model.compile(optimizer='adam',\n",
    "                loss='categorical_crossentropy',\n",
    "                metrics=['acc'])\n",
    "model.summary()"
   ]
  },
  {
   "cell_type": "markdown",
   "metadata": {},
   "source": [
    "### 3、预处理数据"
   ]
  },
  {
   "cell_type": "code",
   "execution_count": 29,
   "metadata": {},
   "outputs": [
    {
     "name": "stdout",
     "output_type": "stream",
     "text": [
      "(128, 9, 1)\n"
     ]
    }
   ],
   "source": [
    "\n",
    "def standardize(data):\n",
    "\t\"\"\" Standardize data \"\"\"\n",
    "\tstd_data = (data - np.mean(data, axis=0)[None,:,:]) / np.std(data, axis=0)[None,:,:]\n",
    "\treturn std_data\n",
    "\n",
    "def one_hot(labels, n_class = 6):\n",
    "\t\"\"\" One-hot encoding \"\"\"\n",
    "\texpansion = np.eye(n_class)\n",
    "\ty = expansion[:, labels-1].T\n",
    "\treturn y\n",
    "\n",
    "\n",
    "X_train = standardize(train_data)\n",
    "X_test = standardize(test_data)\n",
    "\n",
    "#train shape : (7352, 128, 9)\n",
    "#test shape : (2947, 128, 9)\n",
    "\n",
    "X_train = X_train.reshape(7352, 128, 9, 1)\n",
    "X_test = X_test.reshape(2947, 128, 9, 1)\n",
    "\n",
    "Y_train = one_hot(train_label, n_class = 6)\n",
    "Y_test = one_hot(test_label, n_class = 6)\n",
    "print(X_train[0].shape)"
   ]
  },
  {
   "cell_type": "markdown",
   "metadata": {},
   "source": [
    "### 4、训练模型"
   ]
  },
  {
   "cell_type": "code",
   "execution_count": 15,
   "metadata": {},
   "outputs": [
    {
     "name": "stdout",
     "output_type": "stream",
     "text": [
      "Epoch 1/100\n",
      "230/230 [==============================] - 8s 35ms/step - loss: 1.1421 - acc: 0.4910 - val_loss: 0.8418 - val_acc: 0.5813\n",
      "Epoch 2/100\n",
      "230/230 [==============================] - 8s 34ms/step - loss: 0.7838 - acc: 0.6405 - val_loss: 0.6856 - val_acc: 0.6692\n",
      "Epoch 3/100\n",
      "230/230 [==============================] - 8s 34ms/step - loss: 0.6586 - acc: 0.7169 - val_loss: 0.6012 - val_acc: 0.7316\n",
      "Epoch 4/100\n",
      "230/230 [==============================] - 8s 34ms/step - loss: 0.5560 - acc: 0.7739 - val_loss: 0.4858 - val_acc: 0.7720\n",
      "Epoch 5/100\n",
      "230/230 [==============================] - 7s 32ms/step - loss: 0.4877 - acc: 0.8051 - val_loss: 0.4774 - val_acc: 0.8202\n",
      "Epoch 6/100\n",
      "230/230 [==============================] - 8s 34ms/step - loss: 0.4496 - acc: 0.8166 - val_loss: 0.4929 - val_acc: 0.8093\n",
      "Epoch 7/100\n",
      "230/230 [==============================] - 8s 33ms/step - loss: 0.4301 - acc: 0.8315 - val_loss: 0.4026 - val_acc: 0.8473\n",
      "Epoch 8/100\n",
      "230/230 [==============================] - 8s 34ms/step - loss: 0.4079 - acc: 0.8345 - val_loss: 0.3943 - val_acc: 0.8483\n",
      "Epoch 9/100\n",
      "230/230 [==============================] - 7s 32ms/step - loss: 0.3956 - acc: 0.8478 - val_loss: 0.3702 - val_acc: 0.8599\n",
      "Epoch 10/100\n",
      "230/230 [==============================] - 8s 33ms/step - loss: 0.3827 - acc: 0.8463 - val_loss: 0.3768 - val_acc: 0.8554\n",
      "Epoch 11/100\n",
      "230/230 [==============================] - 8s 34ms/step - loss: 0.3645 - acc: 0.8566 - val_loss: 0.3769 - val_acc: 0.8548\n",
      "Epoch 12/100\n",
      "230/230 [==============================] - 8s 34ms/step - loss: 0.3736 - acc: 0.8513 - val_loss: 0.3752 - val_acc: 0.8551\n",
      "Epoch 13/100\n",
      "230/230 [==============================] - 8s 33ms/step - loss: 0.3483 - acc: 0.8572 - val_loss: 0.3641 - val_acc: 0.8524\n",
      "Epoch 14/100\n",
      "230/230 [==============================] - 8s 34ms/step - loss: 0.3429 - acc: 0.8607 - val_loss: 0.3637 - val_acc: 0.8653\n",
      "Epoch 15/100\n",
      "230/230 [==============================] - 8s 34ms/step - loss: 0.3484 - acc: 0.8587 - val_loss: 0.3910 - val_acc: 0.8527\n",
      "Epoch 16/100\n",
      "230/230 [==============================] - 8s 34ms/step - loss: 0.3487 - acc: 0.8664 - val_loss: 0.3632 - val_acc: 0.8565\n",
      "Epoch 17/100\n",
      "230/230 [==============================] - 8s 33ms/step - loss: 0.3361 - acc: 0.8636 - val_loss: 0.3432 - val_acc: 0.8728\n",
      "Epoch 18/100\n",
      "230/230 [==============================] - 8s 33ms/step - loss: 0.3366 - acc: 0.8653 - val_loss: 0.3510 - val_acc: 0.8711\n",
      "Epoch 19/100\n",
      "230/230 [==============================] - 8s 33ms/step - loss: 0.3361 - acc: 0.8633 - val_loss: 0.3602 - val_acc: 0.8629\n",
      "Epoch 20/100\n",
      "230/230 [==============================] - 8s 35ms/step - loss: 0.3264 - acc: 0.8638 - val_loss: 0.3728 - val_acc: 0.86262s - loss: - ETA: 1s - loss: 0.\n",
      "Epoch 21/100\n",
      "230/230 [==============================] - 8s 33ms/step - loss: 0.3351 - acc: 0.8636 - val_loss: 0.3577 - val_acc: 0.8714\n",
      "Epoch 22/100\n",
      "230/230 [==============================] - 7s 28ms/step - loss: 0.3151 - acc: 0.8708 - val_loss: 0.3506 - val_acc: 0.8660\n",
      "Epoch 23/100\n",
      "230/230 [==============================] - 6s 27ms/step - loss: 0.3198 - acc: 0.8706 - val_loss: 0.3921 - val_acc: 0.8548\n",
      "Epoch 24/100\n",
      "230/230 [==============================] - 6s 27ms/step - loss: 0.3222 - acc: 0.8685 - val_loss: 0.3492 - val_acc: 0.8619\n",
      "Epoch 25/100\n",
      "230/230 [==============================] - 6s 26ms/step - loss: 0.3202 - acc: 0.8697 - val_loss: 0.3692 - val_acc: 0.8565\n",
      "Epoch 26/100\n",
      "230/230 [==============================] - 6s 27ms/step - loss: 0.3222 - acc: 0.8709 - val_loss: 0.3427 - val_acc: 0.8846\n",
      "Epoch 27/100\n",
      "230/230 [==============================] - 6s 27ms/step - loss: 0.3200 - acc: 0.8736 - val_loss: 0.3508 - val_acc: 0.8646\n",
      "Epoch 28/100\n",
      "230/230 [==============================] - 6s 26ms/step - loss: 0.2999 - acc: 0.8779 - val_loss: 0.3964 - val_acc: 0.8575\n",
      "Epoch 29/100\n",
      "230/230 [==============================] - 6s 28ms/step - loss: 0.3148 - acc: 0.8757 - val_loss: 0.3680 - val_acc: 0.8711\n",
      "Epoch 30/100\n",
      "230/230 [==============================] - 6s 27ms/step - loss: 0.3147 - acc: 0.8724 - val_loss: 0.3943 - val_acc: 0.8690\n",
      "Epoch 31/100\n",
      "230/230 [==============================] - 6s 28ms/step - loss: 0.3110 - acc: 0.8747 - val_loss: 0.3752 - val_acc: 0.8704\n",
      "Epoch 32/100\n",
      "230/230 [==============================] - 6s 27ms/step - loss: 0.3163 - acc: 0.8709 - val_loss: 0.3766 - val_acc: 0.8616\n",
      "Epoch 33/100\n",
      "230/230 [==============================] - 7s 29ms/step - loss: 0.3047 - acc: 0.8736 - val_loss: 0.3943 - val_acc: 0.8588\n",
      "Epoch 34/100\n",
      "230/230 [==============================] - 7s 29ms/step - loss: 0.2970 - acc: 0.8781 - val_loss: 0.3957 - val_acc: 0.8653\n",
      "Epoch 35/100\n",
      "230/230 [==============================] - 8s 33ms/step - loss: 0.3010 - acc: 0.8757 - val_loss: 0.3993 - val_acc: 0.8568\n",
      "Epoch 36/100\n",
      "230/230 [==============================] - 8s 35ms/step - loss: 0.2988 - acc: 0.8787 - val_loss: 0.3622 - val_acc: 0.8673\n",
      "Epoch 37/100\n",
      "230/230 [==============================] - 8s 35ms/step - loss: 0.3026 - acc: 0.8787 - val_loss: 0.3400 - val_acc: 0.8700\n",
      "Epoch 38/100\n",
      "230/230 [==============================] - 8s 35ms/step - loss: 0.2966 - acc: 0.8832 - val_loss: 0.3749 - val_acc: 0.8571\n",
      "Epoch 39/100\n",
      "230/230 [==============================] - 8s 34ms/step - loss: 0.3078 - acc: 0.8770 - val_loss: 0.3918 - val_acc: 0.8551\n",
      "Epoch 40/100\n",
      "230/230 [==============================] - 8s 35ms/step - loss: 0.3039 - acc: 0.8847 - val_loss: 0.3596 - val_acc: 0.8561\n",
      "Epoch 41/100\n",
      "230/230 [==============================] - 8s 35ms/step - loss: 0.2964 - acc: 0.8847 - val_loss: 0.4039 - val_acc: 0.8554\n",
      "Epoch 42/100\n",
      "230/230 [==============================] - 8s 35ms/step - loss: 0.3066 - acc: 0.8795 - val_loss: 0.3709 - val_acc: 0.8656\n",
      "Epoch 43/100\n",
      "230/230 [==============================] - 8s 35ms/step - loss: 0.3004 - acc: 0.8817 - val_loss: 0.3596 - val_acc: 0.8639\n",
      "Epoch 44/100\n",
      "230/230 [==============================] - 8s 35ms/step - loss: 0.2937 - acc: 0.8842 - val_loss: 0.3562 - val_acc: 0.8633\n",
      "Epoch 45/100\n",
      "230/230 [==============================] - 8s 35ms/step - loss: 0.2868 - acc: 0.8900 - val_loss: 0.3704 - val_acc: 0.8731\n",
      "Epoch 46/100\n",
      "230/230 [==============================] - 8s 35ms/step - loss: 0.2894 - acc: 0.8893 - val_loss: 0.3682 - val_acc: 0.8751\n",
      "Epoch 47/100\n",
      "230/230 [==============================] - 8s 36ms/step - loss: 0.3061 - acc: 0.8806 - val_loss: 0.3797 - val_acc: 0.8683\n",
      "Epoch 48/100\n",
      "230/230 [==============================] - 8s 35ms/step - loss: 0.2981 - acc: 0.8837 - val_loss: 0.3640 - val_acc: 0.8704\n",
      "Epoch 49/100\n",
      "230/230 [==============================] - 8s 36ms/step - loss: 0.2951 - acc: 0.8823 - val_loss: 0.4215 - val_acc: 0.8558\n",
      "Epoch 50/100\n",
      "230/230 [==============================] - 9s 40ms/step - loss: 0.2955 - acc: 0.8837 - val_loss: 0.3419 - val_acc: 0.8802\n",
      "Epoch 51/100\n",
      "230/230 [==============================] - 9s 37ms/step - loss: 0.2871 - acc: 0.8863 - val_loss: 0.3471 - val_acc: 0.8789\n",
      "Epoch 52/100\n",
      "230/230 [==============================] - 8s 36ms/step - loss: 0.2892 - acc: 0.8860 - val_loss: 0.3999 - val_acc: 0.8609\n",
      "Epoch 53/100\n",
      "230/230 [==============================] - 8s 37ms/step - loss: 0.2864 - acc: 0.8916 - val_loss: 0.3681 - val_acc: 0.8894\n",
      "Epoch 54/100\n",
      "230/230 [==============================] - 9s 37ms/step - loss: 0.2770 - acc: 0.8931 - val_loss: 0.3332 - val_acc: 0.8989\n",
      "Epoch 55/100\n",
      "230/230 [==============================] - 8s 37ms/step - loss: 0.2926 - acc: 0.8879 - val_loss: 0.3264 - val_acc: 0.8979\n",
      "Epoch 56/100\n",
      "230/230 [==============================] - 8s 37ms/step - loss: 0.2886 - acc: 0.8874 - val_loss: 0.3665 - val_acc: 0.8687\n",
      "Epoch 57/100\n",
      "230/230 [==============================] - 8s 36ms/step - loss: 0.2798 - acc: 0.8913 - val_loss: 0.3633 - val_acc: 0.8795\n",
      "Epoch 58/100\n",
      "230/230 [==============================] - 8s 36ms/step - loss: 0.2941 - acc: 0.8913 - val_loss: 0.3732 - val_acc: 0.8677\n",
      "Epoch 59/100\n",
      "230/230 [==============================] - 9s 38ms/step - loss: 0.2796 - acc: 0.8973 - val_loss: 0.3846 - val_acc: 0.8792\n",
      "Epoch 60/100\n",
      "230/230 [==============================] - 9s 38ms/step - loss: 0.2843 - acc: 0.8898 - val_loss: 0.3743 - val_acc: 0.8731\n",
      "Epoch 61/100\n",
      "230/230 [==============================] - 8s 36ms/step - loss: 0.2771 - acc: 0.8927 - val_loss: 0.3656 - val_acc: 0.8755\n",
      "Epoch 62/100\n",
      "230/230 [==============================] - 8s 36ms/step - loss: 0.2817 - acc: 0.8897 - val_loss: 0.3745 - val_acc: 0.8734\n",
      "Epoch 63/100\n",
      "230/230 [==============================] - 9s 37ms/step - loss: 0.2749 - acc: 0.8954 - val_loss: 0.3423 - val_acc: 0.8860\n",
      "Epoch 64/100\n",
      "230/230 [==============================] - 8s 36ms/step - loss: 0.2823 - acc: 0.8964 - val_loss: 0.3585 - val_acc: 0.8833\n",
      "Epoch 65/100\n",
      "230/230 [==============================] - 9s 37ms/step - loss: 0.2835 - acc: 0.8912 - val_loss: 0.3945 - val_acc: 0.8890\n",
      "Epoch 66/100\n",
      "230/230 [==============================] - 9s 37ms/step - loss: 0.2750 - acc: 0.8970 - val_loss: 0.3762 - val_acc: 0.8789\n",
      "Epoch 67/100\n",
      "230/230 [==============================] - 9s 37ms/step - loss: 0.2842 - acc: 0.8954 - val_loss: 0.3586 - val_acc: 0.8863loss: 0.2955 - acc: \n",
      "Epoch 68/100\n",
      "230/230 [==============================] - 9s 40ms/step - loss: 0.2735 - acc: 0.8970 - val_loss: 0.3783 - val_acc: 0.8870\n",
      "Epoch 69/100\n",
      "230/230 [==============================] - 11s 47ms/step - loss: 0.2764 - acc: 0.8973 - val_loss: 0.3695 - val_acc: 0.8846\n",
      "Epoch 70/100\n",
      "230/230 [==============================] - 9s 38ms/step - loss: 0.2771 - acc: 0.9011 - val_loss: 0.3884 - val_acc: 0.8802\n",
      "Epoch 71/100\n",
      "230/230 [==============================] - 8s 36ms/step - loss: 0.2753 - acc: 0.8988 - val_loss: 0.4736 - val_acc: 0.8653\n",
      "Epoch 72/100\n",
      "230/230 [==============================] - 9s 37ms/step - loss: 0.2765 - acc: 0.9002 - val_loss: 0.3647 - val_acc: 0.8765TA: 0s - loss: 0.275\n",
      "Epoch 73/100\n",
      "230/230 [==============================] - 8s 37ms/step - loss: 0.2831 - acc: 0.8964 - val_loss: 0.3564 - val_acc: 0.9111\n",
      "Epoch 74/100\n",
      "230/230 [==============================] - 8s 36ms/step - loss: 0.2763 - acc: 0.9007 - val_loss: 0.3947 - val_acc: 0.8768\n",
      "Epoch 75/100\n",
      "230/230 [==============================] - 9s 38ms/step - loss: 0.2845 - acc: 0.8988 - val_loss: 0.4014 - val_acc: 0.8775s - loss: \n",
      "Epoch 76/100\n",
      "230/230 [==============================] - 8s 36ms/step - loss: 0.2726 - acc: 0.9057 - val_loss: 0.3654 - val_acc: 0.8850\n",
      "Epoch 77/100\n",
      "230/230 [==============================] - 9s 39ms/step - loss: 0.2715 - acc: 0.9027 - val_loss: 0.3997 - val_acc: 0.8724\n",
      "Epoch 78/100\n",
      "230/230 [==============================] - 9s 38ms/step - loss: 0.2686 - acc: 0.9040 - val_loss: 0.3832 - val_acc: 0.8785\n",
      "Epoch 79/100\n",
      "230/230 [==============================] - 9s 37ms/step - loss: 0.2718 - acc: 0.9078 - val_loss: 0.3763 - val_acc: 0.8924\n",
      "Epoch 80/100\n",
      "230/230 [==============================] - 9s 37ms/step - loss: 0.2757 - acc: 0.9048 - val_loss: 0.4023 - val_acc: 0.8744\n",
      "Epoch 81/100\n",
      "230/230 [==============================] - 8s 36ms/step - loss: 0.2788 - acc: 0.9007 - val_loss: 0.4123 - val_acc: 0.8673\n",
      "Epoch 82/100\n",
      "230/230 [==============================] - 9s 37ms/step - loss: 0.2752 - acc: 0.9047 - val_loss: 0.4104 - val_acc: 0.8636\n",
      "Epoch 83/100\n",
      "230/230 [==============================] - 8s 37ms/step - loss: 0.2655 - acc: 0.9089 - val_loss: 0.3757 - val_acc: 0.8989\n",
      "Epoch 84/100\n",
      "230/230 [==============================] - 8s 37ms/step - loss: 0.2730 - acc: 0.9061 - val_loss: 0.3728 - val_acc: 0.9009\n",
      "Epoch 85/100\n",
      "230/230 [==============================] - 8s 37ms/step - loss: 0.2739 - acc: 0.9026 - val_loss: 0.4036 - val_acc: 0.8924\n",
      "Epoch 86/100\n",
      "230/230 [==============================] - 9s 37ms/step - loss: 0.2717 - acc: 0.9041 - val_loss: 0.4446 - val_acc: 0.8877\n",
      "Epoch 87/100\n",
      "230/230 [==============================] - 9s 37ms/step - loss: 0.2728 - acc: 0.9074 - val_loss: 0.3955 - val_acc: 0.8938\n",
      "Epoch 88/100\n",
      "230/230 [==============================] - 8s 36ms/step - loss: 0.2718 - acc: 0.9078 - val_loss: 0.3689 - val_acc: 0.8890\n",
      "Epoch 89/100\n",
      "230/230 [==============================] - 8s 37ms/step - loss: 0.2639 - acc: 0.9098 - val_loss: 0.3802 - val_acc: 0.9002\n",
      "Epoch 90/100\n",
      "230/230 [==============================] - 9s 37ms/step - loss: 0.2643 - acc: 0.9100 - val_loss: 0.3657 - val_acc: 0.9108\n",
      "Epoch 91/100\n",
      "230/230 [==============================] - 9s 37ms/step - loss: 0.2662 - acc: 0.9064 - val_loss: 0.3923 - val_acc: 0.9067\n",
      "Epoch 92/100\n",
      "230/230 [==============================] - 9s 37ms/step - loss: 0.2684 - acc: 0.9093 - val_loss: 0.3952 - val_acc: 0.9006\n",
      "Epoch 93/100\n",
      "230/230 [==============================] - 8s 37ms/step - loss: 0.2731 - acc: 0.9119 - val_loss: 0.4823 - val_acc: 0.8639\n",
      "Epoch 94/100\n",
      "230/230 [==============================] - 8s 36ms/step - loss: 0.2637 - acc: 0.9129 - val_loss: 0.4494 - val_acc: 0.8673\n",
      "Epoch 95/100\n",
      "230/230 [==============================] - 8s 36ms/step - loss: 0.2612 - acc: 0.9128 - val_loss: 0.3990 - val_acc: 0.9023\n",
      "Epoch 96/100\n",
      "230/230 [==============================] - 9s 37ms/step - loss: 0.2717 - acc: 0.9072 - val_loss: 0.3968 - val_acc: 0.9074\n",
      "Epoch 97/100\n",
      "230/230 [==============================] - 9s 37ms/step - loss: 0.2741 - acc: 0.9085 - val_loss: 0.3757 - val_acc: 0.9006\n",
      "Epoch 98/100\n",
      "230/230 [==============================] - 8s 37ms/step - loss: 0.2734 - acc: 0.9098 - val_loss: 0.4049 - val_acc: 0.8856\n",
      "Epoch 99/100\n",
      "230/230 [==============================] - 8s 36ms/step - loss: 0.2693 - acc: 0.9104 - val_loss: 0.3623 - val_acc: 0.8975\n",
      "Epoch 100/100\n",
      "230/230 [==============================] - 9s 37ms/step - loss: 0.2613 - acc: 0.9134 - val_loss: 0.3529 - val_acc: 0.8996\n"
     ]
    }
   ],
   "source": [
    "history = model.fit(X_train, Y_train, epochs = 100, validation_data=(X_test, Y_test))"
   ]
  },
  {
   "cell_type": "markdown",
   "metadata": {},
   "source": [
    "### 5、输出训练结果"
   ]
  },
  {
   "cell_type": "code",
   "execution_count": 16,
   "metadata": {},
   "outputs": [],
   "source": [
    "def plot_learningCurve(history, epochs):\n",
    "  # Plot training & validation accuracy values\n",
    "    epoch_range = range(1, epochs+1)\n",
    "    plt.plot(epoch_range, history.history['acc'])\n",
    "    plt.plot(epoch_range, history.history['val_acc'])\n",
    "    plt.title('Model accuracy')\n",
    "    plt.ylabel('Accuracy')\n",
    "    plt.xlabel('Epoch')\n",
    "    plt.legend(['Train', 'Val'], loc='upper left')\n",
    "    plt.show()\n",
    "\n",
    "  # Plot training & validation loss values\n",
    "    plt.plot(epoch_range, history.history['loss'])\n",
    "    plt.plot(epoch_range, history.history['val_loss'])\n",
    "    plt.title('Model loss')\n",
    "    plt.ylabel('Loss')\n",
    "    plt.xlabel('Epoch')\n",
    "    plt.legend(['Train', 'Val'], loc='upper left')\n",
    "    plt.show()"
   ]
  },
  {
   "cell_type": "code",
   "execution_count": 17,
   "metadata": {},
   "outputs": [
    {
     "data": {
      "image/png": "[encoded data removed]",
      "text/plain": [
       "<Figure size 432x288 with 1 Axes>"
      ]
     },
     "metadata": {
      "needs_background": "light"
     },
     "output_type": "display_data"
    },
    {
     "data": {
      "image/png": "[encoded data removed]",
      "text/plain": [
       "<Figure size 432x288 with 1 Axes>"
      ]
     },
     "metadata": {
      "needs_background": "light"
     },
     "output_type": "display_data"
    }
   ],
   "source": [
    "plot_learningCurve(history, 100)"
   ]
  },
  {
   "cell_type": "markdown",
   "metadata": {},
   "source": [
    "### 6、保存最终的模型"
   ]
  },
  {
   "cell_type": "code",
   "execution_count": 19,
   "metadata": {},
   "outputs": [],
   "source": [
    "model.save('my_model.h5')"
   ]
  },
  {
   "cell_type": "markdown",
   "metadata": {},
   "source": [
    "### 7、重新加载模型测试保存的模型"
   ]
  },
  {
   "cell_type": "code",
   "execution_count": 20,
   "metadata": {},
   "outputs": [
    {
     "name": "stdout",
     "output_type": "stream",
     "text": [
      "Model: \"sequential\"\n",
      "_________________________________________________________________\n",
      "Layer (type)                 Output Shape              Param #   \n",
      "=================================================================\n",
      "conv2d (Conv2D)              (None, 127, 8, 64)        320       \n",
      "_________________________________________________________________\n",
      "max_pooling2d (MaxPooling2D) (None, 63, 4, 64)         0         \n",
      "_________________________________________________________________\n",
      "dropout (Dropout)            (None, 63, 4, 64)         0         \n",
      "_________________________________________________________________\n",
      "conv2d_1 (Conv2D)            (None, 62, 3, 64)         16448     \n",
      "_________________________________________________________________\n",
      "max_pooling2d_1 (MaxPooling2 (None, 31, 1, 64)         0         \n",
      "_________________________________________________________________\n",
      "dropout_1 (Dropout)          (None, 31, 1, 64)         0         \n",
      "_________________________________________________________________\n",
      "flatten (Flatten)            (None, 1984)              0         \n",
      "_________________________________________________________________\n",
      "dense (Dense)                (None, 64)                127040    \n",
      "_________________________________________________________________\n",
      "dropout_2 (Dropout)          (None, 64)                0         \n",
      "_________________________________________________________________\n",
      "dense_1 (Dense)              (None, 6)                 390       \n",
      "=================================================================\n",
      "Total params: 144,198\n",
      "Trainable params: 144,198\n",
      "Non-trainable params: 0\n",
      "_________________________________________________________________\n"
     ]
    }
   ],
   "source": [
    "new_model = tf.keras.models.load_model('my_model.h5')\n",
    "new_model.summary()"
   ]
  },
  {
   "cell_type": "code",
   "execution_count": 23,
   "metadata": {},
   "outputs": [
    {
     "name": "stdout",
     "output_type": "stream",
     "text": [
      "93/93 [==============================] - 1s 8ms/step - loss: 0.3529 - acc: 0.8996\n",
      "Restored model, accuracy: 89.96%\n"
     ]
    }
   ],
   "source": [
    "loss, acc = new_model.evaluate(X_test, Y_test)\n",
    "print('Restored model, accuracy: {:5.2f}%'.format(100 * acc))"
   ]
  }
 ],
 "metadata": {
  "interpreter": {
   "hash": "60dc6f04c65ecbb7be59bd1ff0aa24c86e987fdcc88c91910adcabc4ea2339df"
  },
  "kernelspec": {
   "display_name": "Python 3.8.13 ('tensorflow')",
   "language": "python",
   "name": "python3"
  },
  "language_info": {
   "codemirror_mode": {
    "name": "ipython",
    "version": 3
   },
   "file_extension": ".py",
   "mimetype": "text/x-python",
   "name": "python",
   "nbconvert_exporter": "python",
   "pygments_lexer": "ipython3",
   "version": "3.8.13"
  },
  "orig_nbformat": 4
 },
 "nbformat": 4,
 "nbformat_minor": 2
}
